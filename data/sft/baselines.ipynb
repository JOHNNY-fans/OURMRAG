{
 "cells": [
  {
   "cell_type": "code",
   "execution_count": null,
   "id": "e473c249",
   "metadata": {},
   "outputs": [],
   "source": [
    "############获得withoutRAG的数据\n",
    "import json\n",
    "input_file='/root/autodl-tmp/OURMRAG/data/mramg_test.jsonl'\n",
    "outputfile='/root/autodl-tmp/OURMRAG/evaluation/mramg_norag_test.jsonl'\n",
    "all_data=[]\n",
    "new_data=[]\n",
    "with open(input_file, 'r') as infile:\n",
    "    for line in infile:\n",
    "        all_data.append(json.loads(line.strip()))\n",
    "for data in all_data:\n",
    "    info={}\n",
    "    instruction=f\"\"\"#Task \n",
    "    Imagine you are an expert in handling input queries and producing coherent responses.\n",
    "    #Input\n",
    "    Query:{data['question']}\n",
    "    \"\"\"\n",
    "    data['messages']=[\n",
    "        {\n",
    "            \"role\": \"user\",\n",
    "            \"content\": instruction\n",
    "        },{\n",
    "            \"role\":\"assistant\",\n",
    "            \"content\":data[\"answer\"]\n",
    "        }\n",
    "    ]\n",
    "    info={\"question_id\":data['question_id'],\"dataset\":data['dataset'],\"type\":data['type'],\"question\":data[\"question\"],\"solution\":data[\"answer\"],\"messages\":data['messages'],\"images\":[]}\n",
    "    new_data.append(info)\n",
    "with open(outputfile, 'w', encoding='utf-8') as f:\n",
    "    for item in new_data:\n",
    "        f.write(json.dumps(item, ensure_ascii=False) + '\\n')\n"
   ]
  },
  {
   "cell_type": "code",
   "execution_count": null,
   "id": "774120ca",
   "metadata": {},
   "outputs": [],
   "source": [
    "###########\n"
   ]
  },
  {
   "cell_type": "code",
   "execution_count": null,
   "id": "e1889fec",
   "metadata": {},
   "outputs": [],
   "source": [
    "``\n",
    "instruction=f\"\"\"# Task\n",
    "Imagine you are an expert in handling multimodal input queries and producing coherent responses.You will receive:    \n",
    "1. Query: The user query to be answered.\n",
    "2. Contexts.    \n",
    "3. A set of images.\n",
    "# Input   \n",
    "Query: {data['question']} \n",
    "Context: {formatted_reference_report}    \n",
    "\"\"\""
   ]
  }
 ],
 "metadata": {
  "kernelspec": {
   "display_name": "ms-swift",
   "language": "python",
   "name": "python3"
  },
  "language_info": {
   "codemirror_mode": {
    "name": "ipython",
    "version": 3
   },
   "file_extension": ".py",
   "mimetype": "text/x-python",
   "name": "python",
   "nbconvert_exporter": "python",
   "pygments_lexer": "ipython3",
   "version": "3.10.16"
  }
 },
 "nbformat": 4,
 "nbformat_minor": 5
}
